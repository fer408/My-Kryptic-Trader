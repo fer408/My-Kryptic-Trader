{
 "cells": [
  {
   "cell_type": "code",
   "execution_count": 1,
   "metadata": {},
   "outputs": [
    {
     "name": "stdout",
     "output_type": "stream",
     "text": [
      "Requirement already satisfied: robin-stocks in c:\\users\\alarc\\anaconda3\\lib\\site-packages (0.9.9.5)\n",
      "Requirement already satisfied: requests in c:\\users\\alarc\\anaconda3\\lib\\site-packages (from robin-stocks) (2.18.4)\n",
      "Requirement already satisfied: chardet<3.1.0,>=3.0.2 in c:\\users\\alarc\\anaconda3\\lib\\site-packages (from requests->robin-stocks) (3.0.4)\n",
      "Requirement already satisfied: idna<2.7,>=2.5 in c:\\users\\alarc\\anaconda3\\lib\\site-packages (from requests->robin-stocks) (2.6)\n",
      "Requirement already satisfied: urllib3<1.23,>=1.21.1 in c:\\users\\alarc\\anaconda3\\lib\\site-packages (from requests->robin-stocks) (1.22)\n",
      "Requirement already satisfied: certifi>=2017.4.17 in c:\\users\\alarc\\anaconda3\\lib\\site-packages (from requests->robin-stocks) (2019.9.11)\n",
      "Requirement already satisfied: click in c:\\users\\alarc\\anaconda3\\lib\\site-packages (6.7)\n",
      "Requirement already satisfied: twilio in c:\\users\\alarc\\anaconda3\\lib\\site-packages (6.32.0)\n",
      "Requirement already satisfied: pytz in c:\\users\\alarc\\anaconda3\\lib\\site-packages (from twilio) (2018.5)\n",
      "Requirement already satisfied: PyJWT>=1.4.2 in c:\\users\\alarc\\anaconda3\\lib\\site-packages (from twilio) (1.7.1)\n",
      "Requirement already satisfied: requests>=2.0.0; python_version >= \"3.0\" in c:\\users\\alarc\\anaconda3\\lib\\site-packages (from twilio) (2.18.4)\n",
      "Requirement already satisfied: six in c:\\users\\alarc\\anaconda3\\lib\\site-packages (from twilio) (1.11.0)\n",
      "Requirement already satisfied: idna<2.7,>=2.5 in c:\\users\\alarc\\anaconda3\\lib\\site-packages (from requests>=2.0.0; python_version >= \"3.0\"->twilio) (2.6)\n",
      "Requirement already satisfied: chardet<3.1.0,>=3.0.2 in c:\\users\\alarc\\anaconda3\\lib\\site-packages (from requests>=2.0.0; python_version >= \"3.0\"->twilio) (3.0.4)\n",
      "Requirement already satisfied: urllib3<1.23,>=1.21.1 in c:\\users\\alarc\\anaconda3\\lib\\site-packages (from requests>=2.0.0; python_version >= \"3.0\"->twilio) (1.22)\n",
      "Requirement already satisfied: certifi>=2017.4.17 in c:\\users\\alarc\\anaconda3\\lib\\site-packages (from requests>=2.0.0; python_version >= \"3.0\"->twilio) (2019.9.11)\n",
      "Requirement already up-to-date: pip in c:\\users\\alarc\\anaconda3\\lib\\site-packages (19.3.1)\n"
     ]
    }
   ],
   "source": [
    "#Install the Robinhood  API Framework robin-stocks\n",
    "!pip install robin-stocks\n",
    "!pip install click\n",
    "!pip install twilio\n",
    "!python -m pip install --upgrade pip"
   ]
  },
  {
   "cell_type": "code",
   "execution_count": 2,
   "metadata": {},
   "outputs": [
    {
     "name": "stdout",
     "output_type": "stream",
     "text": [
      "ERROR: There was an issue loading pickle file. Authentication may be expired - logging in normally.\n"
     ]
    },
    {
     "name": "stdin",
     "output_type": "stream",
     "text": [
      "Enter Robinhood code for validation:  746564\n"
     ]
    }
   ],
   "source": [
    "import robin_stocks as r\n",
    "import  pandas as pd\n",
    "\n",
    "#Set up robin-stocks api login info\n",
    "login = r.login('alarconfer12@gmail.com','Mirey12345')"
   ]
  },
  {
   "cell_type": "code",
   "execution_count": 3,
   "metadata": {},
   "outputs": [
    {
     "ename": "FileNotFoundError",
     "evalue": "[Errno 2] No such file or directory: 'NeuralNetTradeBot/crypto_data.csv'",
     "output_type": "error",
     "traceback": [
      "\u001b[1;31m---------------------------------------------------------------------------\u001b[0m",
      "\u001b[1;31mFileNotFoundError\u001b[0m                         Traceback (most recent call last)",
      "\u001b[1;32m<ipython-input-3-71bd4b0fa0c8>\u001b[0m in \u001b[0;36m<module>\u001b[1;34m()\u001b[0m\n\u001b[0;32m     20\u001b[0m \u001b[1;32mwhile\u001b[0m \u001b[0mtime\u001b[0m\u001b[1;33m.\u001b[0m\u001b[0mtime\u001b[0m\u001b[1;33m(\u001b[0m\u001b[1;33m)\u001b[0m \u001b[1;33m<\u001b[0m \u001b[0mend\u001b[0m\u001b[1;33m:\u001b[0m\u001b[1;33m\u001b[0m\u001b[0m\n\u001b[0;32m     21\u001b[0m     \u001b[1;32mtry\u001b[0m\u001b[1;33m:\u001b[0m\u001b[1;33m\u001b[0m\u001b[0m\n\u001b[1;32m---> 22\u001b[1;33m         \u001b[1;32mwith\u001b[0m \u001b[0mopen\u001b[0m\u001b[1;33m(\u001b[0m\u001b[1;34m'NeuralNetTradeBot/crypto_data.csv'\u001b[0m\u001b[1;33m,\u001b[0m\u001b[1;34m'w'\u001b[0m\u001b[1;33m)\u001b[0m \u001b[1;32mas\u001b[0m \u001b[0mf\u001b[0m\u001b[1;33m:\u001b[0m\u001b[1;33m\u001b[0m\u001b[0m\n\u001b[0m\u001b[0;32m     23\u001b[0m             \u001b[1;32mfor\u001b[0m \u001b[0mname\u001b[0m \u001b[1;32min\u001b[0m \u001b[0mrange\u001b[0m\u001b[1;33m(\u001b[0m\u001b[0mlen\u001b[0m\u001b[1;33m(\u001b[0m\u001b[0mcrypto_names\u001b[0m\u001b[1;33m)\u001b[0m\u001b[1;33m)\u001b[0m\u001b[1;33m:\u001b[0m\u001b[1;33m\u001b[0m\u001b[0m\n\u001b[0;32m     24\u001b[0m                 data = {'name': crypto_names[name],\n",
      "\u001b[1;31mFileNotFoundError\u001b[0m: [Errno 2] No such file or directory: 'NeuralNetTradeBot/crypto_data.csv'"
     ]
    }
   ],
   "source": [
    "#Import the time library to be able to run the algorithm for a certain set of time.\n",
    "import time\n",
    "import csv\n",
    "\n",
    "#Variables for common time data_types\n",
    "minute = 60\n",
    "hour = (minute * 60)\n",
    "day = hour * 24\n",
    "month = day * 30\n",
    "\n",
    "#Create a end point\n",
    "end = time.time() + minute\n",
    "\n",
    "my_crypto_currencies = r.crypto.get_crypto_positions()\n",
    "crypto_names = [val['currency']['code'] for val in my_crypto_currencies]\n",
    "\n",
    "crypto_data = pd.DataFrame()\n",
    "data_str = ''\n",
    "list_of_data = []\n",
    "while time.time() < end:\n",
    "    try:\n",
    "    \n",
    "        for name in range(len(crypto_names)):\n",
    "            data = {'name': crypto_names[name],\n",
    "                         'buy_price': r.crypto.get_crypto_quote(crypto_names[name])['ask_price'],\n",
    "                         'sell_price': r.crypto.get_crypto_quote(crypto_names[name])['bid_price'],\n",
    "                         'mark_price': r.crypto.get_crypto_quote(crypto_names[name])['mark_price'],\n",
    "                         'mark_price_pct_change': r.crypto.get_crypto_quote(crypto_names[name])['mark_price']\n",
    "                    } \n",
    "                list_of_data.append(data)\n",
    "                data_str += crypto_names[name] + ',' + r.crypto.get_crypto_quote(crypto_names[name])['bid_price'] + ',' + r.crypto.get_crypto_quote(crypto_names[name])['ask_price'] + ',' + r.crypto.get_crypto_quote(crypto_names[name])['mark_price']\n",
    "                print(data_str, file=f)\n",
    "    except TypeError:\n",
    "        pass\n",
    "crypto_data = pd.DataFrame(list_of_data)\n",
    "export = crypto_data.to_csv('crypto_data.csv')"
   ]
  },
  {
   "cell_type": "code",
   "execution_count": null,
   "metadata": {},
   "outputs": [],
   "source": [
    "doge_coin = crypto_data[crypto_data['name'] == 'DOGE']\n",
    "doge_coin['mark_price'] = [float(i) for i in doge_coin['mark_price']]\n",
    "doge_pct_changes = doge_coin['mark_price_pct_change'].value_counts()\n",
    "doge_pct_changes\n"
   ]
  },
  {
   "cell_type": "code",
   "execution_count": null,
   "metadata": {},
   "outputs": [],
   "source": [
    "doge_coin = crypto_data[crypto_data['name'] == 'DOGE']\n",
    "doge_coin['mark_price'] = [float(i) for i in doge_coin['mark_price']]\n",
    "doge_coin['mark_price_pct_change'] = doge_coin['mark_price'].pct_change()\n",
    "doge_pct_changes = doge_coin['mark_price_pct_change'].value_counts()\n",
    "doge_pct_changes\n"
   ]
  },
  {
   "cell_type": "code",
   "execution_count": null,
   "metadata": {},
   "outputs": [],
   "source": [
    "etc_coin = crypto_data[crypto_data['name'] == 'ETC']\n",
    "etc_coin['mark_price'] = [float(i) for i in etc_coin['mark_price']]\n",
    "etc_coin['mark_price_pct_change'] = etc_coin['mark_price'].pct_change()\n",
    "etc_pct_changes = etc_coin['mark_price_pct_change'].value_counts()\n",
    "etc_pct_changes\n"
   ]
  },
  {
   "cell_type": "code",
   "execution_count": null,
   "metadata": {},
   "outputs": [],
   "source": [
    "eth_coin = crypto_data[crypto_data['name'] == 'ETH']\n",
    "eth_coin['mark_price'] = [float(i) for i in eth_coin['mark_price']]\n",
    "eth_coin['mark_price_pct_change'] = eth_coin['mark_price'].pct_change()\n",
    "eth_pct_changes = eth_coin['mark_price_pct_change'].value_counts()\n",
    "eth_pct_changes\n"
   ]
  },
  {
   "cell_type": "code",
   "execution_count": null,
   "metadata": {},
   "outputs": [],
   "source": [
    "btc_coin = crypto_data[crypto_data['name'] == 'ETC']\n",
    "btc_coin['mark_price'] = [float(i) for i in etc_coin['mark_price']]\n",
    "btc_coin['mark_price_pct_change'] = etc_coin['mark_price'].pct_change()\n",
    "btc_pct_changes = etc_coin['mark_price_pct_change'].value_counts()\n",
    "btc_pct_changes\n"
   ]
  },
  {
   "cell_type": "code",
   "execution_count": null,
   "metadata": {},
   "outputs": [],
   "source": [
    "ltc_coin = crypto_data[crypto_data['name'] == 'LTC']\n",
    "ltc_coin['mark_price'] = [float(i) for i in ltc_coin['mark_price']]\n",
    "ltc_coin['mark_price_pct_change'] = ltc_coin['mark_price'].pct_change()\n",
    "ltc_pct_changes = ltc_coin['mark_price_pct_change'].value_counts()\n",
    "ltc_pct_changes"
   ]
  },
  {
   "cell_type": "code",
   "execution_count": null,
   "metadata": {},
   "outputs": [],
   "source": [
    "bch_coin = crypto_data[crypto_data['name'] == 'BCH']\n",
    "bch_coin['mark_price'] = [float(i) for i in bch_coin['mark_price']]\n",
    "bch_coin['mark_price_pct_change'] = bch_coin['mark_price'].pct_change()\n",
    "bch_pct_changes = bch_coin['mark_price_pct_change'].value_counts()\n",
    "bch_pct_changes"
   ]
  }
 ],
 "metadata": {
  "kernelspec": {
   "display_name": "Python 3",
   "language": "python",
   "name": "python3"
  },
  "language_info": {
   "codemirror_mode": {
    "name": "ipython",
    "version": 3
   },
   "file_extension": ".py",
   "mimetype": "text/x-python",
   "name": "python",
   "nbconvert_exporter": "python",
   "pygments_lexer": "ipython3",
   "version": "3.7.0"
  }
 },
 "nbformat": 4,
 "nbformat_minor": 2
}
